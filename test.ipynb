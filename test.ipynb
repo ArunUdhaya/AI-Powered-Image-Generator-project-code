{
 "cells": [
  {
   "cell_type": "code",
   "execution_count": null,
   "id": "c725fa86",
   "metadata": {},
   "outputs": [
    {
     "name": "stdout",
     "output_type": "stream",
     "text": [
      "Defaulting to user installation because normal site-packages is not writeable\n",
      "Requirement already satisfied: python-dotenv in c:\\programdata\\anaconda3\\lib\\site-packages (0.21.0)\n",
      "Requirement already satisfied: requests in c:\\programdata\\anaconda3\\lib\\site-packages (2.31.0)\n",
      "Requirement already satisfied: charset-normalizer<4,>=2 in c:\\programdata\\anaconda3\\lib\\site-packages (from requests) (2.0.4)\n",
      "Requirement already satisfied: idna<4,>=2.5 in c:\\programdata\\anaconda3\\lib\\site-packages (from requests) (3.4)\n",
      "Requirement already satisfied: urllib3<3,>=1.21.1 in c:\\programdata\\anaconda3\\lib\\site-packages (from requests) (1.26.16)\n",
      "Requirement already satisfied: certifi>=2017.4.17 in c:\\programdata\\anaconda3\\lib\\site-packages (from requests) (2025.1.31)\n"
     ]
    }
   ],
   "source": [
    "!pip install python-dotenv requests\n",
    "# Import libraries\n",
    "import os\n",
    "import requests\n",
    "import base64\n",
    "from dotenv import load_dotenv\n",
    "\n",
    "# Load environment variables from .env file\n",
    "load_dotenv()\n",
    "\n",
    "# Access the API key\n",
    "API_KEY = os.getenv(\"STABILITY_API_KEY\")\n",
    "if not API_KEY:\n",
    "    raise ValueError(\"Please set your STABILITY_API_KEY in the .env file.\")\n",
    "\n",
    "# Stability AI API endpoint\n",
    "API_URL = \"https://api.stability.ai/v1/generation/stable-diffusion-v1-6/text-to-image\"\n",
    "\n",
    "def generate_image(prompt, width=512, height=512, samples=1):\n",
    "    \"\"\"\n",
    "    Generate an image using Stability AI's API.\n",
    "    \"\"\"\n",
    "    headers = {\n",
    "        \"Authorization\": f\"Bearer {API_KEY}\",\n",
    "        \"Content-Type\": \"application/json\",\n",
    "    }\n",
    "\n",
    "    payload = {\n",
    "        \"text_prompts\": [{\"text\": prompt}],\n",
    "        \"width\": width,\n",
    "        \"height\": height,\n",
    "        \"samples\": samples,\n",
    "        \"cfg_scale\": 7,\n",
    "        \"steps\": 30,\n",
    "    }\n",
    "\n",
    "    try:\n",
    "        response = requests.post(API_URL, headers=headers, json=payload)\n",
    "        response.raise_for_status()\n",
    "\n",
    "        # Save the generated images\n",
    "        image_paths = []\n",
    "        for i, image in enumerate(response.json()[\"artifacts\"]):\n",
    "            image_path = f\"generated_image_{i + 1}.png\"\n",
    "            with open(image_path, \"wb\") as f:\n",
    "                f.write(base64.b64decode(image[\"base64\"]))\n",
    "            image_paths.append(image_path)\n",
    "            print(f\"Image saved to {image_path}\")\n",
    "\n",
    "        return image_paths\n",
    "\n",
    "    except requests.exceptions.RequestException as e:\n",
    "        print(f\"An error occurred: {e}\")\n",
    "        return None\n",
    "\n",
    "# Get user input for the image prompt\n",
    "prompt = input(\"Enter a text prompt to generate an image: \")\n",
    "\n",
    "# Generate the image\n",
    "image_paths = generate_image(prompt)\n",
    "\n",
    "if image_paths:\n",
    "    print(\"Image generation successful!\")\n",
    "else:\n",
    "    print(\"Image generation failed.\")"
   ]
  },
  {
   "cell_type": "code",
   "execution_count": null,
   "id": "cb5b3ead",
   "metadata": {},
   "outputs": [],
   "source": []
  },
  {
   "cell_type": "code",
   "execution_count": null,
   "id": "eea9dde9",
   "metadata": {},
   "outputs": [],
   "source": []
  },
  {
   "cell_type": "code",
   "execution_count": null,
   "id": "f395ae3e",
   "metadata": {},
   "outputs": [],
   "source": []
  },
  {
   "cell_type": "code",
   "execution_count": null,
   "id": "7eec9fea",
   "metadata": {},
   "outputs": [],
   "source": []
  }
 ],
 "metadata": {
  "kernelspec": {
   "display_name": "Python 3 (ipykernel)",
   "language": "python",
   "name": "python3"
  },
  "language_info": {
   "codemirror_mode": {
    "name": "ipython",
    "version": 3
   },
   "file_extension": ".py",
   "mimetype": "text/x-python",
   "name": "python",
   "nbconvert_exporter": "python",
   "pygments_lexer": "ipython3",
   "version": "3.11.5"
  }
 },
 "nbformat": 4,
 "nbformat_minor": 5
}
